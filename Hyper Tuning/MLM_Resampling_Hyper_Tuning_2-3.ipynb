{
 "cells": [
  {
   "cell_type": "code",
   "execution_count": 1,
   "id": "a8187430",
   "metadata": {},
   "outputs": [],
   "source": [
    "# import dependencies\n",
    "import numpy as np\n",
    "import pandas as pd\n",
    "from pathlib import Path\n",
    "from collections import Counter"
   ]
  },
  {
   "cell_type": "code",
   "execution_count": 2,
   "id": "35e0359b",
   "metadata": {},
   "outputs": [],
   "source": [
    "from sklearn.metrics import balanced_accuracy_score\n",
    "from sklearn.metrics import confusion_matrix\n",
    "from sklearn.metrics import r2_score\n",
    "from imblearn.metrics import classification_report_imbalanced"
   ]
  },
  {
   "cell_type": "code",
   "execution_count": 3,
   "id": "e2a88238",
   "metadata": {},
   "outputs": [
    {
     "data": {
      "text/html": [
       "<div>\n",
       "<style scoped>\n",
       "    .dataframe tbody tr th:only-of-type {\n",
       "        vertical-align: middle;\n",
       "    }\n",
       "\n",
       "    .dataframe tbody tr th {\n",
       "        vertical-align: top;\n",
       "    }\n",
       "\n",
       "    .dataframe thead th {\n",
       "        text-align: right;\n",
       "    }\n",
       "</style>\n",
       "<table border=\"1\" class=\"dataframe\">\n",
       "  <thead>\n",
       "    <tr style=\"text-align: right;\">\n",
       "      <th></th>\n",
       "      <th>GeoFips</th>\n",
       "      <th>county</th>\n",
       "      <th>pcp_count</th>\n",
       "      <th>population</th>\n",
       "      <th>pop_density</th>\n",
       "      <th>per_capita_income</th>\n",
       "      <th>pcp_per_capita</th>\n",
       "      <th>pop_density_lvl</th>\n",
       "      <th>region_Far West</th>\n",
       "      <th>region_Great Lakes</th>\n",
       "      <th>...</th>\n",
       "      <th>state_TN</th>\n",
       "      <th>state_TX</th>\n",
       "      <th>state_UT</th>\n",
       "      <th>state_VA</th>\n",
       "      <th>state_VT</th>\n",
       "      <th>state_WA</th>\n",
       "      <th>state_WI</th>\n",
       "      <th>state_WV</th>\n",
       "      <th>state_WY</th>\n",
       "      <th>pcp_per_capita_bins</th>\n",
       "    </tr>\n",
       "  </thead>\n",
       "  <tbody>\n",
       "    <tr>\n",
       "      <th>0</th>\n",
       "      <td>12086</td>\n",
       "      <td>Miami-Dade</td>\n",
       "      <td>13619</td>\n",
       "      <td>2715516</td>\n",
       "      <td>552.187071</td>\n",
       "      <td>57213</td>\n",
       "      <td>5.015253</td>\n",
       "      <td>3</td>\n",
       "      <td>0</td>\n",
       "      <td>0</td>\n",
       "      <td>...</td>\n",
       "      <td>0</td>\n",
       "      <td>0</td>\n",
       "      <td>0</td>\n",
       "      <td>0</td>\n",
       "      <td>0</td>\n",
       "      <td>0</td>\n",
       "      <td>0</td>\n",
       "      <td>0</td>\n",
       "      <td>0</td>\n",
       "      <td>1</td>\n",
       "    </tr>\n",
       "    <tr>\n",
       "      <th>1</th>\n",
       "      <td>6025</td>\n",
       "      <td>Imperial</td>\n",
       "      <td>236</td>\n",
       "      <td>180216</td>\n",
       "      <td>16.659991</td>\n",
       "      <td>44500</td>\n",
       "      <td>1.309540</td>\n",
       "      <td>1</td>\n",
       "      <td>1</td>\n",
       "      <td>0</td>\n",
       "      <td>...</td>\n",
       "      <td>0</td>\n",
       "      <td>0</td>\n",
       "      <td>0</td>\n",
       "      <td>0</td>\n",
       "      <td>0</td>\n",
       "      <td>0</td>\n",
       "      <td>0</td>\n",
       "      <td>0</td>\n",
       "      <td>0</td>\n",
       "      <td>1</td>\n",
       "    </tr>\n",
       "    <tr>\n",
       "      <th>2</th>\n",
       "      <td>40109</td>\n",
       "      <td>Oklahoma</td>\n",
       "      <td>2914</td>\n",
       "      <td>782051</td>\n",
       "      <td>425.989528</td>\n",
       "      <td>56971</td>\n",
       "      <td>3.726100</td>\n",
       "      <td>3</td>\n",
       "      <td>0</td>\n",
       "      <td>0</td>\n",
       "      <td>...</td>\n",
       "      <td>0</td>\n",
       "      <td>0</td>\n",
       "      <td>0</td>\n",
       "      <td>0</td>\n",
       "      <td>0</td>\n",
       "      <td>0</td>\n",
       "      <td>0</td>\n",
       "      <td>0</td>\n",
       "      <td>0</td>\n",
       "      <td>1</td>\n",
       "    </tr>\n",
       "    <tr>\n",
       "      <th>3</th>\n",
       "      <td>39115</td>\n",
       "      <td>Morgan</td>\n",
       "      <td>19</td>\n",
       "      <td>14702</td>\n",
       "      <td>13.631412</td>\n",
       "      <td>38583</td>\n",
       "      <td>1.292341</td>\n",
       "      <td>1</td>\n",
       "      <td>0</td>\n",
       "      <td>1</td>\n",
       "      <td>...</td>\n",
       "      <td>0</td>\n",
       "      <td>0</td>\n",
       "      <td>0</td>\n",
       "      <td>0</td>\n",
       "      <td>0</td>\n",
       "      <td>0</td>\n",
       "      <td>0</td>\n",
       "      <td>0</td>\n",
       "      <td>0</td>\n",
       "      <td>1</td>\n",
       "    </tr>\n",
       "    <tr>\n",
       "      <th>4</th>\n",
       "      <td>8059</td>\n",
       "      <td>Jefferson</td>\n",
       "      <td>1459</td>\n",
       "      <td>570427</td>\n",
       "      <td>288.167016</td>\n",
       "      <td>68829</td>\n",
       "      <td>2.557733</td>\n",
       "      <td>3</td>\n",
       "      <td>0</td>\n",
       "      <td>0</td>\n",
       "      <td>...</td>\n",
       "      <td>0</td>\n",
       "      <td>0</td>\n",
       "      <td>0</td>\n",
       "      <td>0</td>\n",
       "      <td>0</td>\n",
       "      <td>0</td>\n",
       "      <td>0</td>\n",
       "      <td>0</td>\n",
       "      <td>0</td>\n",
       "      <td>1</td>\n",
       "    </tr>\n",
       "  </tbody>\n",
       "</table>\n",
       "<p>5 rows × 68 columns</p>\n",
       "</div>"
      ],
      "text/plain": [
       "   GeoFips      county  pcp_count  population  pop_density  per_capita_income  \\\n",
       "0    12086  Miami-Dade      13619     2715516   552.187071              57213   \n",
       "1     6025    Imperial        236      180216    16.659991              44500   \n",
       "2    40109    Oklahoma       2914      782051   425.989528              56971   \n",
       "3    39115      Morgan         19       14702    13.631412              38583   \n",
       "4     8059   Jefferson       1459      570427   288.167016              68829   \n",
       "\n",
       "   pcp_per_capita  pop_density_lvl  region_Far West  region_Great Lakes  ...  \\\n",
       "0        5.015253                3                0                   0  ...   \n",
       "1        1.309540                1                1                   0  ...   \n",
       "2        3.726100                3                0                   0  ...   \n",
       "3        1.292341                1                0                   1  ...   \n",
       "4        2.557733                3                0                   0  ...   \n",
       "\n",
       "   state_TN  state_TX  state_UT  state_VA  state_VT  state_WA  state_WI  \\\n",
       "0         0         0         0         0         0         0         0   \n",
       "1         0         0         0         0         0         0         0   \n",
       "2         0         0         0         0         0         0         0   \n",
       "3         0         0         0         0         0         0         0   \n",
       "4         0         0         0         0         0         0         0   \n",
       "\n",
       "   state_WV  state_WY  pcp_per_capita_bins  \n",
       "0         0         0                    1  \n",
       "1         0         0                    1  \n",
       "2         0         0                    1  \n",
       "3         0         0                    1  \n",
       "4         0         0                    1  \n",
       "\n",
       "[5 rows x 68 columns]"
      ]
     },
     "execution_count": 3,
     "metadata": {},
     "output_type": "execute_result"
    }
   ],
   "source": [
    "# load the data\n",
    "merged_df = pd.read_csv(\"merged_df.csv\", index_col=[0],sep=',')\n",
    "merged_df.head()"
   ]
  },
  {
   "cell_type": "code",
   "execution_count": 4,
   "id": "49ab17e4",
   "metadata": {},
   "outputs": [],
   "source": [
    "# Create features\n",
    "X = merged_df.drop(columns=[\"pcp_per_capita\", \"pcp_per_capita_bins\", \"pop_density\", \"per_capita_income\", \"state_AK\", \"state_AL\", \"state_AR\", \"state_AZ\", \"state_CA\", \"state_CO\",\n",
    "\"state_CT\", \"state_DC\", \"state_DE\", \"state_FL\", \"state_GA\", \"state_HI\",\n",
    "\"state_IA\", \"state_ID\", \"state_IL\", \"state_IN\", \"state_KS\", \"state_KY\",\n",
    "\"state_LA\", \"state_MA\", \"state_MD\", \"state_ME\", \"state_MI\", \"state_MN\",\n",
    "\"state_MO\", \"state_MS\", \"state_MT\", \"state_NC\", \"state_ND\", \"state_NE\",\n",
    "\"state_NH\", \"state_NJ\", \"state_NM\", \"state_NV\", \"state_NY\", \"state_OH\",\n",
    "\"state_OK\", \"state_OR\", \"state_PA\", \"state_RI\", \"state_SC\", \"state_SD\",\n",
    "\"state_TN\", \"state_TX\", \"state_UT\", \"state_VA\", \"state_VT\", \"state_WA\",\n",
    "\"state_WI\", \"state_WV\", \"state_WY\"])\n",
    "X = pd.get_dummies(X) \n",
    "\n",
    "# Create target\n",
    "y = merged_df[\"pcp_per_capita_bins\"]"
   ]
  },
  {
   "cell_type": "code",
   "execution_count": 5,
   "id": "b2ecb8ab",
   "metadata": {},
   "outputs": [
    {
     "data": {
      "text/html": [
       "<div>\n",
       "<style scoped>\n",
       "    .dataframe tbody tr th:only-of-type {\n",
       "        vertical-align: middle;\n",
       "    }\n",
       "\n",
       "    .dataframe tbody tr th {\n",
       "        vertical-align: top;\n",
       "    }\n",
       "\n",
       "    .dataframe thead th {\n",
       "        text-align: right;\n",
       "    }\n",
       "</style>\n",
       "<table border=\"1\" class=\"dataframe\">\n",
       "  <thead>\n",
       "    <tr style=\"text-align: right;\">\n",
       "      <th></th>\n",
       "      <th>GeoFips</th>\n",
       "      <th>pcp_count</th>\n",
       "      <th>population</th>\n",
       "      <th>pop_density_lvl</th>\n",
       "      <th>region_Far West</th>\n",
       "      <th>region_Great Lakes</th>\n",
       "      <th>region_Mideast</th>\n",
       "      <th>region_New England</th>\n",
       "      <th>region_Plains</th>\n",
       "      <th>region_Rocky Mountain</th>\n",
       "      <th>...</th>\n",
       "      <th>county_Yellowstone</th>\n",
       "      <th>county_Yoakum</th>\n",
       "      <th>county_Yolo</th>\n",
       "      <th>county_York</th>\n",
       "      <th>county_Young</th>\n",
       "      <th>county_Yuba</th>\n",
       "      <th>county_Yukon-Koyukuk</th>\n",
       "      <th>county_Yuma</th>\n",
       "      <th>county_Zapata</th>\n",
       "      <th>county_Zavala</th>\n",
       "    </tr>\n",
       "  </thead>\n",
       "  <tbody>\n",
       "    <tr>\n",
       "      <th>count</th>\n",
       "      <td>3029.000000</td>\n",
       "      <td>3029.000000</td>\n",
       "      <td>3.029000e+03</td>\n",
       "      <td>3029.000000</td>\n",
       "      <td>3029.000000</td>\n",
       "      <td>3029.000000</td>\n",
       "      <td>3029.000000</td>\n",
       "      <td>3029.000000</td>\n",
       "      <td>3029.000000</td>\n",
       "      <td>3029.000000</td>\n",
       "      <td>...</td>\n",
       "      <td>3029.00000</td>\n",
       "      <td>3029.00000</td>\n",
       "      <td>3029.00000</td>\n",
       "      <td>3029.000000</td>\n",
       "      <td>3029.00000</td>\n",
       "      <td>3029.00000</td>\n",
       "      <td>3029.00000</td>\n",
       "      <td>3029.000000</td>\n",
       "      <td>3029.00000</td>\n",
       "      <td>3029.00000</td>\n",
       "    </tr>\n",
       "    <tr>\n",
       "      <th>mean</th>\n",
       "      <td>29981.758666</td>\n",
       "      <td>339.705513</td>\n",
       "      <td>1.141870e+05</td>\n",
       "      <td>1.496864</td>\n",
       "      <td>0.059756</td>\n",
       "      <td>0.144272</td>\n",
       "      <td>0.059426</td>\n",
       "      <td>0.022450</td>\n",
       "      <td>0.193793</td>\n",
       "      <td>0.067019</td>\n",
       "      <td>...</td>\n",
       "      <td>0.00033</td>\n",
       "      <td>0.00033</td>\n",
       "      <td>0.00033</td>\n",
       "      <td>0.001321</td>\n",
       "      <td>0.00033</td>\n",
       "      <td>0.00033</td>\n",
       "      <td>0.00033</td>\n",
       "      <td>0.000660</td>\n",
       "      <td>0.00033</td>\n",
       "      <td>0.00033</td>\n",
       "    </tr>\n",
       "    <tr>\n",
       "      <th>std</th>\n",
       "      <td>15070.955336</td>\n",
       "      <td>1094.505146</td>\n",
       "      <td>4.231330e+05</td>\n",
       "      <td>1.118362</td>\n",
       "      <td>0.237073</td>\n",
       "      <td>0.351423</td>\n",
       "      <td>0.236458</td>\n",
       "      <td>0.148165</td>\n",
       "      <td>0.395334</td>\n",
       "      <td>0.250096</td>\n",
       "      <td>...</td>\n",
       "      <td>0.01817</td>\n",
       "      <td>0.01817</td>\n",
       "      <td>0.01817</td>\n",
       "      <td>0.036322</td>\n",
       "      <td>0.01817</td>\n",
       "      <td>0.01817</td>\n",
       "      <td>0.01817</td>\n",
       "      <td>0.025692</td>\n",
       "      <td>0.01817</td>\n",
       "      <td>0.01817</td>\n",
       "    </tr>\n",
       "    <tr>\n",
       "      <th>min</th>\n",
       "      <td>1001.000000</td>\n",
       "      <td>1.000000</td>\n",
       "      <td>4.590000e+02</td>\n",
       "      <td>0.000000</td>\n",
       "      <td>0.000000</td>\n",
       "      <td>0.000000</td>\n",
       "      <td>0.000000</td>\n",
       "      <td>0.000000</td>\n",
       "      <td>0.000000</td>\n",
       "      <td>0.000000</td>\n",
       "      <td>...</td>\n",
       "      <td>0.00000</td>\n",
       "      <td>0.00000</td>\n",
       "      <td>0.00000</td>\n",
       "      <td>0.000000</td>\n",
       "      <td>0.00000</td>\n",
       "      <td>0.00000</td>\n",
       "      <td>0.00000</td>\n",
       "      <td>0.000000</td>\n",
       "      <td>0.00000</td>\n",
       "      <td>0.00000</td>\n",
       "    </tr>\n",
       "    <tr>\n",
       "      <th>25%</th>\n",
       "      <td>18153.000000</td>\n",
       "      <td>18.000000</td>\n",
       "      <td>1.196200e+04</td>\n",
       "      <td>0.000000</td>\n",
       "      <td>0.000000</td>\n",
       "      <td>0.000000</td>\n",
       "      <td>0.000000</td>\n",
       "      <td>0.000000</td>\n",
       "      <td>0.000000</td>\n",
       "      <td>0.000000</td>\n",
       "      <td>...</td>\n",
       "      <td>0.00000</td>\n",
       "      <td>0.00000</td>\n",
       "      <td>0.00000</td>\n",
       "      <td>0.000000</td>\n",
       "      <td>0.00000</td>\n",
       "      <td>0.00000</td>\n",
       "      <td>0.00000</td>\n",
       "      <td>0.000000</td>\n",
       "      <td>0.00000</td>\n",
       "      <td>0.00000</td>\n",
       "    </tr>\n",
       "    <tr>\n",
       "      <th>50%</th>\n",
       "      <td>29095.000000</td>\n",
       "      <td>56.000000</td>\n",
       "      <td>2.721600e+04</td>\n",
       "      <td>1.000000</td>\n",
       "      <td>0.000000</td>\n",
       "      <td>0.000000</td>\n",
       "      <td>0.000000</td>\n",
       "      <td>0.000000</td>\n",
       "      <td>0.000000</td>\n",
       "      <td>0.000000</td>\n",
       "      <td>...</td>\n",
       "      <td>0.00000</td>\n",
       "      <td>0.00000</td>\n",
       "      <td>0.00000</td>\n",
       "      <td>0.000000</td>\n",
       "      <td>0.00000</td>\n",
       "      <td>0.00000</td>\n",
       "      <td>0.00000</td>\n",
       "      <td>0.000000</td>\n",
       "      <td>0.00000</td>\n",
       "      <td>0.00000</td>\n",
       "    </tr>\n",
       "    <tr>\n",
       "      <th>75%</th>\n",
       "      <td>44001.000000</td>\n",
       "      <td>198.000000</td>\n",
       "      <td>7.152200e+04</td>\n",
       "      <td>2.000000</td>\n",
       "      <td>0.000000</td>\n",
       "      <td>0.000000</td>\n",
       "      <td>0.000000</td>\n",
       "      <td>0.000000</td>\n",
       "      <td>0.000000</td>\n",
       "      <td>0.000000</td>\n",
       "      <td>...</td>\n",
       "      <td>0.00000</td>\n",
       "      <td>0.00000</td>\n",
       "      <td>0.00000</td>\n",
       "      <td>0.000000</td>\n",
       "      <td>0.00000</td>\n",
       "      <td>0.00000</td>\n",
       "      <td>0.00000</td>\n",
       "      <td>0.000000</td>\n",
       "      <td>0.00000</td>\n",
       "      <td>0.00000</td>\n",
       "    </tr>\n",
       "    <tr>\n",
       "      <th>max</th>\n",
       "      <td>56045.000000</td>\n",
       "      <td>18526.000000</td>\n",
       "      <td>1.009805e+07</td>\n",
       "      <td>3.000000</td>\n",
       "      <td>1.000000</td>\n",
       "      <td>1.000000</td>\n",
       "      <td>1.000000</td>\n",
       "      <td>1.000000</td>\n",
       "      <td>1.000000</td>\n",
       "      <td>1.000000</td>\n",
       "      <td>...</td>\n",
       "      <td>1.00000</td>\n",
       "      <td>1.00000</td>\n",
       "      <td>1.00000</td>\n",
       "      <td>1.000000</td>\n",
       "      <td>1.00000</td>\n",
       "      <td>1.00000</td>\n",
       "      <td>1.00000</td>\n",
       "      <td>1.000000</td>\n",
       "      <td>1.00000</td>\n",
       "      <td>1.00000</td>\n",
       "    </tr>\n",
       "  </tbody>\n",
       "</table>\n",
       "<p>8 rows × 1760 columns</p>\n",
       "</div>"
      ],
      "text/plain": [
       "            GeoFips     pcp_count    population  pop_density_lvl  \\\n",
       "count   3029.000000   3029.000000  3.029000e+03      3029.000000   \n",
       "mean   29981.758666    339.705513  1.141870e+05         1.496864   \n",
       "std    15070.955336   1094.505146  4.231330e+05         1.118362   \n",
       "min     1001.000000      1.000000  4.590000e+02         0.000000   \n",
       "25%    18153.000000     18.000000  1.196200e+04         0.000000   \n",
       "50%    29095.000000     56.000000  2.721600e+04         1.000000   \n",
       "75%    44001.000000    198.000000  7.152200e+04         2.000000   \n",
       "max    56045.000000  18526.000000  1.009805e+07         3.000000   \n",
       "\n",
       "       region_Far West  region_Great Lakes  region_Mideast  \\\n",
       "count      3029.000000         3029.000000     3029.000000   \n",
       "mean          0.059756            0.144272        0.059426   \n",
       "std           0.237073            0.351423        0.236458   \n",
       "min           0.000000            0.000000        0.000000   \n",
       "25%           0.000000            0.000000        0.000000   \n",
       "50%           0.000000            0.000000        0.000000   \n",
       "75%           0.000000            0.000000        0.000000   \n",
       "max           1.000000            1.000000        1.000000   \n",
       "\n",
       "       region_New England  region_Plains  region_Rocky Mountain  ...  \\\n",
       "count         3029.000000    3029.000000            3029.000000  ...   \n",
       "mean             0.022450       0.193793               0.067019  ...   \n",
       "std              0.148165       0.395334               0.250096  ...   \n",
       "min              0.000000       0.000000               0.000000  ...   \n",
       "25%              0.000000       0.000000               0.000000  ...   \n",
       "50%              0.000000       0.000000               0.000000  ...   \n",
       "75%              0.000000       0.000000               0.000000  ...   \n",
       "max              1.000000       1.000000               1.000000  ...   \n",
       "\n",
       "       county_Yellowstone  county_Yoakum  county_Yolo  county_York  \\\n",
       "count          3029.00000     3029.00000   3029.00000  3029.000000   \n",
       "mean              0.00033        0.00033      0.00033     0.001321   \n",
       "std               0.01817        0.01817      0.01817     0.036322   \n",
       "min               0.00000        0.00000      0.00000     0.000000   \n",
       "25%               0.00000        0.00000      0.00000     0.000000   \n",
       "50%               0.00000        0.00000      0.00000     0.000000   \n",
       "75%               0.00000        0.00000      0.00000     0.000000   \n",
       "max               1.00000        1.00000      1.00000     1.000000   \n",
       "\n",
       "       county_Young  county_Yuba  county_Yukon-Koyukuk  county_Yuma  \\\n",
       "count    3029.00000   3029.00000            3029.00000  3029.000000   \n",
       "mean        0.00033      0.00033               0.00033     0.000660   \n",
       "std         0.01817      0.01817               0.01817     0.025692   \n",
       "min         0.00000      0.00000               0.00000     0.000000   \n",
       "25%         0.00000      0.00000               0.00000     0.000000   \n",
       "50%         0.00000      0.00000               0.00000     0.000000   \n",
       "75%         0.00000      0.00000               0.00000     0.000000   \n",
       "max         1.00000      1.00000               1.00000     1.000000   \n",
       "\n",
       "       county_Zapata  county_Zavala  \n",
       "count     3029.00000     3029.00000  \n",
       "mean         0.00033        0.00033  \n",
       "std          0.01817        0.01817  \n",
       "min          0.00000        0.00000  \n",
       "25%          0.00000        0.00000  \n",
       "50%          0.00000        0.00000  \n",
       "75%          0.00000        0.00000  \n",
       "max          1.00000        1.00000  \n",
       "\n",
       "[8 rows x 1760 columns]"
      ]
     },
     "execution_count": 5,
     "metadata": {},
     "output_type": "execute_result"
    }
   ],
   "source": [
    "X.describe()"
   ]
  },
  {
   "cell_type": "code",
   "execution_count": 6,
   "id": "3160df15",
   "metadata": {},
   "outputs": [
    {
     "data": {
      "text/plain": [
       "1    2881\n",
       "0     148\n",
       "Name: pcp_per_capita_bins, dtype: int64"
      ]
     },
     "execution_count": 6,
     "metadata": {},
     "output_type": "execute_result"
    }
   ],
   "source": [
    "# Check the balance of our target values\n",
    "y.value_counts()"
   ]
  },
  {
   "cell_type": "code",
   "execution_count": 7,
   "id": "2f742ab5",
   "metadata": {},
   "outputs": [],
   "source": [
    "# Train, test, split\n",
    "from sklearn.model_selection import train_test_split\n",
    "X_train, X_test, y_train, y_test = train_test_split(X,\n",
    "    y, random_state=1)"
   ]
  },
  {
   "cell_type": "markdown",
   "id": "ebe170a4",
   "metadata": {},
   "source": [
    "## Random Undersampling"
   ]
  },
  {
   "cell_type": "code",
   "execution_count": 8,
   "id": "fec64d0c",
   "metadata": {},
   "outputs": [
    {
     "data": {
      "text/plain": [
       "Counter({0: 114, 1: 114})"
      ]
     },
     "execution_count": 8,
     "metadata": {},
     "output_type": "execute_result"
    }
   ],
   "source": [
    "from imblearn.under_sampling import RandomUnderSampler\n",
    "ros = RandomUnderSampler(random_state=1)\n",
    "X_resampled, y_resampled = ros.fit_resample(X_train, y_train)\n",
    "Counter(y_resampled)"
   ]
  },
  {
   "cell_type": "code",
   "execution_count": 9,
   "id": "f7b98bb2",
   "metadata": {},
   "outputs": [
    {
     "data": {
      "text/plain": [
       "LogisticRegression(random_state=1)"
      ]
     },
     "execution_count": 9,
     "metadata": {},
     "output_type": "execute_result"
    }
   ],
   "source": [
    "from sklearn.linear_model import LogisticRegression\n",
    "model = LogisticRegression(solver='lbfgs', random_state=1)\n",
    "model.fit(X_resampled, y_resampled)"
   ]
  },
  {
   "cell_type": "code",
   "execution_count": 11,
   "id": "e69fd212",
   "metadata": {},
   "outputs": [
    {
     "name": "stdout",
     "output_type": "stream",
     "text": [
      "[[ 34   0]\n",
      " [ 17 707]]\n"
     ]
    }
   ],
   "source": [
    "from sklearn.metrics import confusion_matrix\n",
    "y_pred = model.predict(X_test)\n",
    "cm = confusion_matrix(y_test, y_pred)\n",
    "print(cm)"
   ]
  },
  {
   "cell_type": "code",
   "execution_count": 12,
   "id": "4f919cde",
   "metadata": {},
   "outputs": [
    {
     "data": {
      "text/plain": [
       "0.9882596685082873"
      ]
     },
     "execution_count": 12,
     "metadata": {},
     "output_type": "execute_result"
    }
   ],
   "source": [
    "from sklearn.metrics import balanced_accuracy_score\n",
    "balanced_accuracy_score(y_test, y_pred)"
   ]
  },
  {
   "cell_type": "code",
   "execution_count": 13,
   "id": "29a59106",
   "metadata": {},
   "outputs": [
    {
     "name": "stdout",
     "output_type": "stream",
     "text": [
      "                   pre       rec       spe        f1       geo       iba       sup\n",
      "\n",
      "          0       0.67      1.00      0.98      0.80      0.99      0.98        34\n",
      "          1       1.00      0.98      1.00      0.99      0.99      0.97       724\n",
      "\n",
      "avg / total       0.99      0.98      1.00      0.98      0.99      0.97       758\n",
      "\n"
     ]
    }
   ],
   "source": [
    "# Print the imbalanced classification report\n",
    "from imblearn.metrics import classification_report_imbalanced\n",
    "print(classification_report_imbalanced(y_test, y_pred))"
   ]
  },
  {
   "cell_type": "code",
   "execution_count": 14,
   "id": "ae6916d4",
   "metadata": {},
   "outputs": [
    {
     "data": {
      "text/plain": [
       "0.4765193370165747"
      ]
     },
     "execution_count": 14,
     "metadata": {},
     "output_type": "execute_result"
    }
   ],
   "source": [
    "# find r-squared score\n",
    "r2_score(y_test, y_pred)"
   ]
  },
  {
   "cell_type": "markdown",
   "id": "f15aff2d",
   "metadata": {},
   "source": [
    "## Undersampling using Cluster Centroids"
   ]
  },
  {
   "cell_type": "code",
   "execution_count": 15,
   "id": "586a2d8e",
   "metadata": {},
   "outputs": [],
   "source": [
    "## import ClusterCentroids\n",
    "from imblearn.under_sampling import ClusterCentroids\n",
    "cc = ClusterCentroids(random_state=1)\n",
    "X_resampled, y_resampled = cc.fit_resample(X_train, y_train)"
   ]
  },
  {
   "cell_type": "code",
   "execution_count": 16,
   "id": "fe1f9ab5",
   "metadata": {},
   "outputs": [
    {
     "data": {
      "text/plain": [
       "LogisticRegression(random_state=1)"
      ]
     },
     "execution_count": 16,
     "metadata": {},
     "output_type": "execute_result"
    }
   ],
   "source": [
    "# import logistic regression\n",
    "from sklearn.linear_model import LogisticRegression\n",
    "model = LogisticRegression(solver='lbfgs', random_state=1)\n",
    "model.fit(X_resampled, y_resampled)"
   ]
  },
  {
   "cell_type": "code",
   "execution_count": 18,
   "id": "2a706112",
   "metadata": {},
   "outputs": [
    {
     "name": "stdout",
     "output_type": "stream",
     "text": [
      "[[ 34   0]\n",
      " [146 578]]\n"
     ]
    }
   ],
   "source": [
    "# print confusion matrix\n",
    "from sklearn.metrics import confusion_matrix\n",
    "y_pred = model.predict(X_test)\n",
    "cm = confusion_matrix(y_test, y_pred)\n",
    "print(cm)"
   ]
  },
  {
   "cell_type": "code",
   "execution_count": 19,
   "id": "a7e38117",
   "metadata": {},
   "outputs": [
    {
     "data": {
      "text/plain": [
       "0.899171270718232"
      ]
     },
     "execution_count": 19,
     "metadata": {},
     "output_type": "execute_result"
    }
   ],
   "source": [
    "# print balanced accuracy score\n",
    "from sklearn.metrics import balanced_accuracy_score\n",
    "balanced_accuracy_score(y_test, y_pred)"
   ]
  },
  {
   "cell_type": "code",
   "execution_count": 20,
   "id": "34cac464",
   "metadata": {},
   "outputs": [
    {
     "name": "stdout",
     "output_type": "stream",
     "text": [
      "                   pre       rec       spe        f1       geo       iba       sup\n",
      "\n",
      "          0       0.19      1.00      0.80      0.32      0.89      0.81        34\n",
      "          1       1.00      0.80      1.00      0.89      0.89      0.78       724\n",
      "\n",
      "avg / total       0.96      0.81      0.99      0.86      0.89      0.78       758\n",
      "\n"
     ]
    }
   ],
   "source": [
    "# print imbalanced classification report\n",
    "from imblearn.metrics import classification_report_imbalanced\n",
    "print(classification_report_imbalanced(y_test, y_pred))"
   ]
  },
  {
   "cell_type": "code",
   "execution_count": 21,
   "id": "7a25210f",
   "metadata": {},
   "outputs": [
    {
     "data": {
      "text/plain": [
       "-3.495775105622359"
      ]
     },
     "execution_count": 21,
     "metadata": {},
     "output_type": "execute_result"
    }
   ],
   "source": [
    "# find r-squared score\n",
    "r2_score(y_test, y_pred)"
   ]
  },
  {
   "cell_type": "code",
   "execution_count": null,
   "id": "10e4806a",
   "metadata": {},
   "outputs": [],
   "source": []
  }
 ],
 "metadata": {
  "kernelspec": {
   "display_name": "mlenv",
   "language": "python",
   "name": "mlenv"
  },
  "language_info": {
   "codemirror_mode": {
    "name": "ipython",
    "version": 3
   },
   "file_extension": ".py",
   "mimetype": "text/x-python",
   "name": "python",
   "nbconvert_exporter": "python",
   "pygments_lexer": "ipython3",
   "version": "3.7.11"
  }
 },
 "nbformat": 4,
 "nbformat_minor": 5
}
